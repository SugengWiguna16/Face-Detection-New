{
 "cells": [
  {
   "cell_type": "code",
   "execution_count": null,
   "id": "8f35da18-6c07-4331-af53-b78959b491d4",
   "metadata": {},
   "outputs": [],
   "source": [
    "#sugeng\n",
    "import PIL.Image\n",
    "import PIL.ImageDraw\n",
    "import face_recognition"
   ]
  },
  {
   "cell_type": "code",
   "execution_count": null,
   "id": "265b712a-536b-4629-8c9d-84c49e633a6e",
   "metadata": {},
   "outputs": [],
   "source": [
    "given_image = face_recognition.load_image_file('orang dan hewan.jpg')"
   ]
  },
  {
   "cell_type": "code",
   "execution_count": null,
   "id": "9eb0fc55-1030-4ff9-9901-04ce0fa9f088",
   "metadata": {},
   "outputs": [],
   "source": [
    "face_locations = face_recognition.face_locations(given_image)\n",
    "number_of_faces = len(face_locations)\n",
    "print(\"We found {} face(s) in this image.\".format(number_of_faces))"
   ]
  },
  {
   "cell_type": "code",
   "execution_count": null,
   "id": "74463e6d-9cc5-422c-ad21-212187ff7f13",
   "metadata": {},
   "outputs": [],
   "source": [
    "pil_image = PIL.Image.fromarray(given_image)"
   ]
  },
  {
   "cell_type": "code",
   "execution_count": null,
   "id": "52bbe701-e511-429d-a0bd-b75a86c56c79",
   "metadata": {},
   "outputs": [],
   "source": [
    "for face_location in face_locations:\n",
    "    top, left, bottom, right = face_location\n",
    "    print(\"A face is detected at pixel location Top: {}, Left: {}, Bottom: {}, Right: {}\".format(top, left, bottom, right))\n",
    "    draw = PIL.ImageDraw.Draw(pil_image)\n",
    "    draw.rectangle([left, top, right, bottom], outline=\"blue\", width=5)"
   ]
  },
  {
   "cell_type": "code",
   "execution_count": null,
   "id": "0bbfe537-5e52-402e-8bb5-7b02a0ab48d3",
   "metadata": {},
   "outputs": [],
   "source": [
    "pil_image.show()"
   ]
  }
 ],
 "metadata": {
  "kernelspec": {
   "display_name": "Python 3 (ipykernel)",
   "language": "python",
   "name": "python3"
  },
  "language_info": {
   "name": ""
  }
 },
 "nbformat": 4,
 "nbformat_minor": 5
}
