{
 "cells": [
  {
   "cell_type": "code",
   "execution_count": null,
   "id": "f67f3567-4a08-4c92-b9bc-4d648c8b1b6a",
   "metadata": {},
   "outputs": [],
   "source": [
    "#Sugeng\n",
    "import PIL.Image\n",
    "import PIL.ImageDraw\n",
    "import face_recognition"
   ]
  },
  {
   "cell_type": "code",
   "execution_count": null,
   "id": "c3c7abbe-f65f-49f4-906c-0d356657851d",
   "metadata": {},
   "outputs": [],
   "source": [
    "given_image = face_recognition.load_image_file('kelas ML.jpg')"
   ]
  },
  {
   "cell_type": "code",
   "execution_count": null,
   "id": "f70aeb91-f878-4c18-ab93-e67a863ef2dd",
   "metadata": {},
   "outputs": [],
   "source": [
    "face_locations = face_recognition.face_locations(given_image)\n",
    "number_of_faces = len(face_locations)\n",
    "print(\"We found {} face(s) in this image.\".format(number_of_faces))"
   ]
  },
  {
   "cell_type": "code",
   "execution_count": null,
   "id": "35d8dd4f-57e3-4ff9-8ca7-18a5311cd389",
   "metadata": {},
   "outputs": [],
   "source": [
    "pil_image = PIL.Image.fromarray(given_image)"
   ]
  },
  {
   "cell_type": "code",
   "execution_count": null,
   "id": "8cda3d66-b5ea-4875-9b3b-86d7c1a40f80",
   "metadata": {},
   "outputs": [],
   "source": [
    "for face_location in face_locations:\n",
    "    top, left, bottom, right = face_location\n",
    "    print(\"A face is detected at pixel location Top: {}, Left: {}, Bottom: {}, Right: {}\".format(top, left, bottom, right))\n",
    "    draw = PIL.ImageDraw.Draw(pil_image)\n",
    "    draw.rectangle([left, top, right, bottom], outline=\"green\", width=10)"
   ]
  },
  {
   "cell_type": "code",
   "execution_count": null,
   "id": "ff190718-e2a8-4be9-a68c-3ea35504c9fb",
   "metadata": {},
   "outputs": [],
   "source": [
    "pil_image.show()"
   ]
  }
 ],
 "metadata": {
  "kernelspec": {
   "display_name": "Python 3 (ipykernel)",
   "language": "python",
   "name": "python3"
  },
  "language_info": {
   "name": ""
  }
 },
 "nbformat": 4,
 "nbformat_minor": 5
}
